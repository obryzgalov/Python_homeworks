{
 "cells": [
  {
   "cell_type": "code",
   "execution_count": 1,
   "id": "0cb1aea8",
   "metadata": {},
   "outputs": [
    {
     "name": "stdout",
     "output_type": "stream",
     "text": [
      "a:\n",
      " [[ 1  6]\n",
      " [ 2  8]\n",
      " [ 3 11]\n",
      " [ 3 10]\n",
      " [ 1  7]] \n",
      "\n",
      "mean_a:\n",
      " [2.  8.4]\n"
     ]
    }
   ],
   "source": [
    "'''\n",
    "Задание 1\n",
    "\n",
    "Импортируйте библиотеку Numpy и дайте ей псевдоним np.\n",
    "Создайте массив Numpy под названием a размером 5x2, то есть состоящий из 5 строк и 2 столбцов. \n",
    "Первый столбец должен содержать числа 1, 2, 3, 3, 1, а второй - числа 6, 8, 11, 10, 7. \n",
    "Будем считать, что каждый столбец - это признак, а строка - наблюдение. \n",
    "Затем найдите среднее значение по каждому признаку, используя метод mean массива Numpy. \n",
    "Результат запишите в массив mean_a, в нем должно быть 2 элемента.\n",
    "'''\n",
    "\n",
    "import numpy as np\n",
    "\n",
    "ant = np.array([[1, 2, 3, 3, 1], [6, 8, 11, 10, 7]])\n",
    "a = ant.transpose()\n",
    "print('a:\\n', a,'\\n')\n",
    "\n",
    "mean_a = np.array(a.mean(axis = 0))\n",
    "print('mean_a:\\n', (mean_a))"
   ]
  },
  {
   "cell_type": "code",
   "execution_count": 2,
   "id": "fab206ce",
   "metadata": {},
   "outputs": [
    {
     "name": "stdout",
     "output_type": "stream",
     "text": [
      "a_centered:\n",
      " [[-1.  -2.4]\n",
      " [ 0.  -0.4]\n",
      " [ 1.   2.6]\n",
      " [ 1.   1.6]\n",
      " [-1.  -1.4]]\n"
     ]
    }
   ],
   "source": [
    "'''\n",
    "Задание 2\n",
    "\n",
    "Вычислите массив a_centered, отняв от значений массива “а” средние значения соответствующих признаков,\n",
    "содержащиеся в массиве mean_a. Вычисление должно производиться в одно действие. \n",
    "Получившийся массив должен иметь размер 5x2.\n",
    "'''\n",
    "\n",
    "# Broadcasting, никакой особый код не нужен, вычисление идет для каждой строки\n",
    "a_centered = a - mean_a\n",
    "print('a_centered:\\n', a_centered)"
   ]
  },
  {
   "cell_type": "code",
   "execution_count": 19,
   "id": "edec6aa0",
   "metadata": {},
   "outputs": [
    {
     "name": "stdout",
     "output_type": "stream",
     "text": [
      "2.0\n"
     ]
    }
   ],
   "source": [
    "'''\n",
    "Задание 3\n",
    "\n",
    "Найдите скалярное произведение столбцов массива a_centered.\n",
    "В результате должна получиться величина a_centered_sp. \n",
    "Затем поделите a_centered_sp на N-1, где N - число наблюдений.\n",
    "'''\n",
    "\n",
    "# для удобства развернул матрицу. \n",
    "# Какая нам разница в каком направлении складывать, если надо получить одно число, верно?\n",
    "a_centered_t = a_centered.transpose()\n",
    "# вычислим СП \"столбцов\", которые теперь строки\n",
    "a_centered_sp = np.dot(a_centered_t[0], a_centered_t[1])\n",
    "a_fnl = a_centered_sp / (len(a) - 1)\n",
    "# искомое число\n",
    "print(a_fnl)"
   ]
  },
  {
   "cell_type": "code",
   "execution_count": 23,
   "id": "1579c1db",
   "metadata": {},
   "outputs": [
    {
     "data": {
      "text/plain": [
       "2.0"
      ]
     },
     "execution_count": 23,
     "metadata": {},
     "output_type": "execute_result"
    }
   ],
   "source": [
    "'''\n",
    "Задание 3\n",
    "\n",
    "Найдите скалярное произведение столбцов массива a_centered.\n",
    "В результате должна получиться величина a_centered_sp. \n",
    "Затем поделите a_centered_sp на N-1, где N - число наблюдений.\n",
    "'''\n",
    "\n",
    "# для удобства развернул матрицу. \n",
    "# Какая нам разница в каком направлении складывать, если надо получить одно число, верно?\n",
    "a_centered_t = a_centered.transpose()\n",
    "# вычислим СП \"столбцов\", которые теперь строки\n",
    "a_centered_sp = np.dot(a_centered_t[0], a_centered_t[1])\n",
    "a_fnl = a_centered_sp / (len(a) - 1)\n",
    "# искомое число\n",
    "print(a_fnl)\n",
    "\n",
    "'''\n",
    "Задание 4\n",
    "\n",
    "В этом задании проверьте получившееся число, вычислив ковариацию еще одним способом\n",
    "- с помощью функции np.cov. \n",
    "В качестве аргумента m функция np.cov должна принимать транспонированный массив “a”. \n",
    "В получившейся ковариационной матрице (массив Numpy размером 2x2) \n",
    "искомое значение ковариации будет равно элементу в строке с индексом 0 и столбце с индексом 1.\n",
    "'''\n",
    "\n",
    "at = a.transpose()\n",
    "cov_a = np.cov(at)\n",
    "cov_a[0, 1]"
   ]
  }
 ],
 "metadata": {
  "kernelspec": {
   "display_name": "Python 3 (ipykernel)",
   "language": "python",
   "name": "python3"
  },
  "language_info": {
   "codemirror_mode": {
    "name": "ipython",
    "version": 3
   },
   "file_extension": ".py",
   "mimetype": "text/x-python",
   "name": "python",
   "nbconvert_exporter": "python",
   "pygments_lexer": "ipython3",
   "version": "3.9.12"
  }
 },
 "nbformat": 4,
 "nbformat_minor": 5
}
